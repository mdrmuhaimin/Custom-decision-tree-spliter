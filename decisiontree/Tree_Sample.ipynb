{
 "cells": [
  {
   "cell_type": "code",
   "execution_count": 1,
   "metadata": {},
   "outputs": [],
   "source": [
    "from tree.tree import Tree"
   ]
  },
  {
   "cell_type": "markdown",
   "metadata": {},
   "source": [
    "#### Tree Structure:\n",
    "\n",
    "          _ _12_ _\n",
    "         /        \\\n",
    "        13      __14__\n",
    "       /  \\    /      \\\n",
    "      15  16  17      18\n",
    "             /  \\    /  \\\n",
    "            19  20  21  22\n",
    "           /       /  \\\n",
    "          24      25   3"
   ]
  },
  {
   "cell_type": "code",
   "execution_count": 2,
   "metadata": {},
   "outputs": [],
   "source": [
    "tree = {\n",
    "    'root': '12',\n",
    "    '12': ['13', '14'],\n",
    "    '13': ['15', '16'],\n",
    "    '14': ['17', '18'],\n",
    "    '17': ['19', '20'],\n",
    "    '19': ['24', None],\n",
    "    '18': ['21', '22'],\n",
    "    '21': ['25', '3']\n",
    "}\n",
    "\n",
    "def create_tree(tree, node):\n",
    "    base  = Tree(node)\n",
    "    if node not in tree:\n",
    "        return base\n",
    "\n",
    "    left_value = tree[node][0]\n",
    "    base.left = create_tree(tree, left_value)\n",
    "    if(len(tree[node]) == 2):\n",
    "        right_value = tree[node][1]\n",
    "        base.right = create_tree(tree, right_value)\n",
    "    return base\n",
    "sample_tree = create_tree(tree, tree['root'])"
   ]
  },
  {
   "cell_type": "code",
   "execution_count": 3,
   "metadata": {},
   "outputs": [
    {
     "data": {
      "text/plain": [
       "{'root': '12',\n",
       " '12': ['13', '14'],\n",
       " '13': ['15', '16'],\n",
       " '14': ['17', '18'],\n",
       " '17': ['19', '20'],\n",
       " '19': ['24', None],\n",
       " '18': ['21', '22'],\n",
       " '21': ['25', '3']}"
      ]
     },
     "execution_count": 3,
     "metadata": {},
     "output_type": "execute_result"
    }
   ],
   "source": [
    "sample_tree.get_tree()"
   ]
  },
  {
   "cell_type": "code",
   "execution_count": null,
   "metadata": {},
   "outputs": [],
   "source": []
  }
 ],
 "metadata": {
  "kernelspec": {
   "display_name": "Python 3",
   "language": "python",
   "name": "python3"
  },
  "language_info": {
   "codemirror_mode": {
    "name": "ipython",
    "version": 3
   },
   "file_extension": ".py",
   "mimetype": "text/x-python",
   "name": "python",
   "nbconvert_exporter": "python",
   "pygments_lexer": "ipython3",
   "version": "3.7.3"
  }
 },
 "nbformat": 4,
 "nbformat_minor": 2
}
