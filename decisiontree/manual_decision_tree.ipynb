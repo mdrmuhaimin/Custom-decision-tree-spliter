{
 "cells": [
  {
   "cell_type": "code",
   "execution_count": 1,
   "metadata": {},
   "outputs": [],
   "source": [
    "import pandas as pd\n",
    "# import sklearn\n",
    "# from sklearn.tree import DecisionTreeClassifier\n",
    "# from sklearn.tree import DecisionTreeRegressor\n",
    "# from sklearn.externals.six import StringIO \n",
    "# from sklearn import preprocessing\n",
    "# from IPython.display import Image \n",
    "# from sklearn.tree import export_graphviz\n",
    "# import pydotplus\n",
    "import numpy as np\n",
    "import matplotlib.pyplot as plt\n",
    "import copy \n",
    "from tree.tree import Tree"
   ]
  },
  {
   "cell_type": "code",
   "execution_count": 2,
   "metadata": {},
   "outputs": [],
   "source": [
    "hockey = pd.read_csv('./hockey/join_skater_and_season_stats_10_years_view.csv')"
   ]
  },
  {
   "cell_type": "code",
   "execution_count": 3,
   "metadata": {},
   "outputs": [],
   "source": [
    "hockey['DraftYear'] = hockey['DraftYear'].replace(',','', regex=True)\n",
    "hockey['DraftYear'] = hockey['DraftYear'].astype(str).astype(int)\n",
    "hockey['DraftYear'].dtype\n",
    "hockey['target'] = [1 if x > 0 else x for x in hockey['rs_GP'].values]"
   ]
  },
  {
   "cell_type": "code",
   "execution_count": 4,
   "metadata": {},
   "outputs": [
    {
     "data": {
      "text/plain": [
       "1    2201\n",
       "0      23\n",
       "Name: target, dtype: int64"
      ]
     },
     "execution_count": 4,
     "metadata": {},
     "output_type": "execute_result"
    }
   ],
   "source": [
    "hockey['target'].value_counts()"
   ]
  },
  {
   "cell_type": "code",
   "execution_count": 5,
   "metadata": {},
   "outputs": [
    {
     "name": "stdout",
     "output_type": "stream",
     "text": [
      "2002    255\n",
      "2000    254\n",
      "2004    251\n",
      "2001    244\n",
      "Name: DraftYear, dtype: int64\n",
      "zero     519\n",
      "plus     297\n",
      "minus    188\n",
      "Name: rs_PlusMinus, dtype: int64\n",
      "1    989\n",
      "0     15\n",
      "Name: target, dtype: int64\n"
     ]
    },
    {
     "name": "stderr",
     "output_type": "stream",
     "text": [
      "/Users/muhammadmuhaimin/anaconda3/lib/python3.7/site-packages/ipykernel_launcher.py:10: SettingWithCopyWarning: \n",
      "A value is trying to be set on a copy of a slice from a DataFrame.\n",
      "Try using .loc[row_indexer,col_indexer] = value instead\n",
      "\n",
      "See the caveats in the documentation: http://pandas.pydata.org/pandas-docs/stable/indexing.html#indexing-view-versus-copy\n",
      "  # Remove the CWD from sys.path while we load stuff.\n"
     ]
    }
   ],
   "source": [
    "def rs_value(x):\n",
    "    if x > 0:\n",
    "        return 'plus'\n",
    "    elif x < 0:\n",
    "        return 'minus'\n",
    "    else:\n",
    "        return 'zero'\n",
    "\n",
    "df = hockey[['DraftYear','rs_PlusMinus', 'target']]\n",
    "df[\"rs_PlusMinus\"] = df['rs_PlusMinus'].apply(rs_value)\n",
    "df = df.loc[(df['DraftYear'] >= 2000) & (df['DraftYear'] <= 2004)]\n",
    "df['DraftYear'] = df['DraftYear'].apply(lambda x: str(x))\n",
    "print(df['DraftYear'].value_counts())\n",
    "print(df['rs_PlusMinus'].value_counts())\n",
    "print(df['target'].value_counts())"
   ]
  },
  {
   "cell_type": "code",
   "execution_count": 6,
   "metadata": {
    "scrolled": true
   },
   "outputs": [
    {
     "data": {
      "text/plain": [
       "Index(['target', 'DraftYear_2000', 'DraftYear_2001', 'DraftYear_2002',\n",
       "       'DraftYear_2004', 'rs_PlusMinus_minus', 'rs_PlusMinus_plus',\n",
       "       'rs_PlusMinus_zero'],\n",
       "      dtype='object')"
      ]
     },
     "execution_count": 6,
     "metadata": {},
     "output_type": "execute_result"
    }
   ],
   "source": [
    "df = pd.get_dummies(df)\n",
    "df.columns"
   ]
  },
  {
   "cell_type": "code",
   "execution_count": 7,
   "metadata": {},
   "outputs": [
    {
     "data": {
      "text/html": [
       "<div>\n",
       "<style scoped>\n",
       "    .dataframe tbody tr th:only-of-type {\n",
       "        vertical-align: middle;\n",
       "    }\n",
       "\n",
       "    .dataframe tbody tr th {\n",
       "        vertical-align: top;\n",
       "    }\n",
       "\n",
       "    .dataframe thead th {\n",
       "        text-align: right;\n",
       "    }\n",
       "</style>\n",
       "<table border=\"1\" class=\"dataframe\">\n",
       "  <thead>\n",
       "    <tr style=\"text-align: right;\">\n",
       "      <th></th>\n",
       "      <th>DraftYear_2002</th>\n",
       "      <th>DraftYear_2004</th>\n",
       "      <th>rs_PlusMinus_minus</th>\n",
       "      <th>rs_PlusMinus_plus</th>\n",
       "      <th>target</th>\n",
       "    </tr>\n",
       "  </thead>\n",
       "  <tbody>\n",
       "    <tr>\n",
       "      <th>19</th>\n",
       "      <td>0</td>\n",
       "      <td>0</td>\n",
       "      <td>1</td>\n",
       "      <td>0</td>\n",
       "      <td>1</td>\n",
       "    </tr>\n",
       "    <tr>\n",
       "      <th>25</th>\n",
       "      <td>0</td>\n",
       "      <td>0</td>\n",
       "      <td>0</td>\n",
       "      <td>1</td>\n",
       "      <td>1</td>\n",
       "    </tr>\n",
       "    <tr>\n",
       "      <th>119</th>\n",
       "      <td>0</td>\n",
       "      <td>0</td>\n",
       "      <td>0</td>\n",
       "      <td>1</td>\n",
       "      <td>1</td>\n",
       "    </tr>\n",
       "    <tr>\n",
       "      <th>121</th>\n",
       "      <td>0</td>\n",
       "      <td>0</td>\n",
       "      <td>1</td>\n",
       "      <td>0</td>\n",
       "      <td>1</td>\n",
       "    </tr>\n",
       "    <tr>\n",
       "      <th>129</th>\n",
       "      <td>0</td>\n",
       "      <td>0</td>\n",
       "      <td>0</td>\n",
       "      <td>0</td>\n",
       "      <td>1</td>\n",
       "    </tr>\n",
       "  </tbody>\n",
       "</table>\n",
       "</div>"
      ],
      "text/plain": [
       "     DraftYear_2002  DraftYear_2004  rs_PlusMinus_minus  rs_PlusMinus_plus  \\\n",
       "19                0               0                   1                  0   \n",
       "25                0               0                   0                  1   \n",
       "119               0               0                   0                  1   \n",
       "121               0               0                   1                  0   \n",
       "129               0               0                   0                  0   \n",
       "\n",
       "     target  \n",
       "19        1  \n",
       "25        1  \n",
       "119       1  \n",
       "121       1  \n",
       "129       1  "
      ]
     },
     "execution_count": 7,
     "metadata": {},
     "output_type": "execute_result"
    }
   ],
   "source": [
    "df = df[['DraftYear_2002', 'DraftYear_2004', 'rs_PlusMinus_minus', 'rs_PlusMinus_plus', 'target']]\n",
    "df.head(5)"
   ]
  },
  {
   "cell_type": "code",
   "execution_count": 8,
   "metadata": {
    "scrolled": true
   },
   "outputs": [
    {
     "data": {
      "text/plain": [
       "0.9850597609561753"
      ]
     },
     "execution_count": 8,
     "metadata": {},
     "output_type": "execute_result"
    }
   ],
   "source": [
    "df['target'].value_counts(True)[1]"
   ]
  },
  {
   "cell_type": "code",
   "execution_count": 9,
   "metadata": {},
   "outputs": [],
   "source": [
    "def get_fet_prob(df, feature, target='target', prefix_val=''):\n",
    "    prob = df[target].value_counts(True)[1]\n",
    "    positive_df = df.loc[df[feature] == 1]\n",
    "    negetive_df = df.loc[df[feature] == 0]\n",
    "    return ('{}-{}-{}'.format(str(prefix_val), feature, prob), positive_df, negetive_df)\n",
    "features = ['DraftYear_2002', 'DraftYear_2004', 'rs_PlusMinus_minus', 'rs_PlusMinus_plus']"
   ]
  },
  {
   "cell_type": "code",
   "execution_count": 10,
   "metadata": {},
   "outputs": [
    {
     "data": {
      "text/plain": [
       "{'0-DraftYear_2002-0.9850597609561753': ['1-DraftYear_2004-0.9921568627450981',\n",
       "  '2-DraftYear_2004-0.9826435246995995'],\n",
       " '1-DraftYear_2004-0.9921568627450981': [None,\n",
       "  '3-rs_PlusMinus_minus-0.9921568627450981'],\n",
       " '2-DraftYear_2004-0.9826435246995995': ['4-rs_PlusMinus_minus-0.9800796812749004',\n",
       "  '5-rs_PlusMinus_minus-0.9839357429718876'],\n",
       " '3-rs_PlusMinus_minus-0.9921568627450981': ['6-rs_PlusMinus_plus-1.0',\n",
       "  '7-rs_PlusMinus_plus-0.98989898989899'],\n",
       " '4-rs_PlusMinus_minus-0.9800796812749004': ['8-rs_PlusMinus_plus-1.0',\n",
       "  '9-rs_PlusMinus_plus-0.975'],\n",
       " '5-rs_PlusMinus_minus-0.9839357429718876': ['10-rs_PlusMinus_plus-1.0',\n",
       "  '11-rs_PlusMinus_plus-0.9808612440191388'],\n",
       " '6-rs_PlusMinus_plus-1.0': [None, None],\n",
       " '7-rs_PlusMinus_plus-0.98989898989899': [None, None],\n",
       " '8-rs_PlusMinus_plus-1.0': [None, None],\n",
       " '9-rs_PlusMinus_plus-0.975': [None, None],\n",
       " '10-rs_PlusMinus_plus-1.0': [None, None],\n",
       " '11-rs_PlusMinus_plus-0.9808612440191388': [None, None]}"
      ]
     },
     "execution_count": 10,
     "metadata": {},
     "output_type": "execute_result"
    }
   ],
   "source": [
    "relevant_dfs = [(None, df, None)]\n",
    "feature_dict = {}\n",
    "node = 0\n",
    "for feature in features:\n",
    "    temp_df = []\n",
    "    for df in relevant_dfs:\n",
    "        ft_prob, pos_df, neg_df = df\n",
    "        pos_ft_prob = None\n",
    "        neg_ft_prob = None\n",
    "        if pos_df is not None and len(pos_df) > 0:\n",
    "            pos_df_att = get_fet_prob(pos_df, feature, prefix_val=node)\n",
    "#             pos_df_att[0] = '{} -> {}'.format(pos_df_att[0], node)\n",
    "            node += 1\n",
    "            pos_ft_prob = pos_df_att[0]\n",
    "            feature_dict[pos_ft_prob] = [None, None]\n",
    "            temp_df = temp_df + [pos_df_att]\n",
    "        if neg_df is not None and len(neg_df) > 0:\n",
    "            neg_df_att = get_fet_prob(neg_df, feature, prefix_val=node)\n",
    "#             neg_df_att[0] = '{} -> {}'.format(neg_df_att[0], node)\n",
    "            node += 1\n",
    "            neg_ft_prob = neg_df_att[0]\n",
    "            feature_dict[neg_ft_prob] = [None, None]\n",
    "            temp_df = temp_df + [neg_df_att]\n",
    "        if ft_prob is not None:\n",
    "            feature_dict[ft_prob] = [pos_ft_prob, neg_ft_prob]\n",
    "\n",
    "\n",
    "    relevant_dfs = temp_df\n",
    "\n",
    "feature_dict"
   ]
  },
  {
   "cell_type": "markdown",
   "metadata": {},
   "source": [
    "#### Tree Structure:\n",
    "\n",
    "         _____0____\n",
    "        /  Y     N \\\n",
    "       1          __2__\n",
    "        \\        /     \\\n",
    "         3      4       5\n",
    "        / \\    / \\     / \\\n",
    "       6   7  8   9   10 11"
   ]
  },
  {
   "cell_type": "code",
   "execution_count": null,
   "metadata": {},
   "outputs": [],
   "source": []
  }
 ],
 "metadata": {
  "kernelspec": {
   "display_name": "Python 3",
   "language": "python",
   "name": "python3"
  },
  "language_info": {
   "codemirror_mode": {
    "name": "ipython",
    "version": 3
   },
   "file_extension": ".py",
   "mimetype": "text/x-python",
   "name": "python",
   "nbconvert_exporter": "python",
   "pygments_lexer": "ipython3",
   "version": "3.7.3"
  }
 },
 "nbformat": 4,
 "nbformat_minor": 2
}
